{
 "cells": [
  {
   "cell_type": "markdown",
   "id": "115109ff-cb51-4b3d-9128-189cbfb86254",
   "metadata": {
    "panel-layout": {
     "height": 60.59375,
     "visible": true,
     "width": 100
    }
   },
   "source": [
    "# Data Science Tools and Ecosystem"
   ]
  },
  {
   "cell_type": "markdown",
   "id": "a2b4ae10-ebec-4b61-b89a-f14013e63ae1",
   "metadata": {
    "panel-layout": {
     "height": 27.140625,
     "visible": true,
     "width": 100
    }
   },
   "source": [
    "2-title.png"
   ]
  },
  {
   "cell_type": "markdown",
   "id": "0c7607e4-e7b7-49ec-831c-5084182fdaa3",
   "metadata": {
    "panel-layout": {
     "height": 44.09375,
     "visible": true,
     "width": 100
    }
   },
   "source": [
    "### In this notebook, Data Science Tools and Ecosystem are summarized"
   ]
  },
  {
   "cell_type": "markdown",
   "id": "0e07c914-1719-4818-ab0b-9906e85265e3",
   "metadata": {
    "panel-layout": {
     "height": 27.140625,
     "visible": true,
     "width": 100
    }
   },
   "source": [
    "3-intro.png"
   ]
  },
  {
   "cell_type": "markdown",
   "id": "6489ae66-ed23-41fa-a17c-5ddcfc054523",
   "metadata": {
    "panel-layout": {
     "height": 51.140625,
     "visible": true,
     "width": 100
    }
   },
   "source": [
    "***Objectives:***"
   ]
  },
  {
   "cell_type": "markdown",
   "id": "2007bf34-2d09-44ec-ac05-e9ec7caadcd5",
   "metadata": {
    "panel-layout": {
     "height": 102.5625,
     "visible": true,
     "width": 100
    }
   },
   "source": [
    "- Interactivity\n",
    "- Visualization\n",
    "- Multi-language support\n",
    "- Extensibility"
   ]
  },
  {
   "cell_type": "markdown",
   "id": "8a2d75da-c040-4922-bd9d-60431e6e906e",
   "metadata": {
    "panel-layout": {
     "height": 27.140625,
     "visible": true,
     "width": 100
    }
   },
   "source": [
    "10-objectives.png"
   ]
  },
  {
   "cell_type": "code",
   "execution_count": null,
   "id": "9904c248-bdd8-4408-840c-ce38fa58bddb",
   "metadata": {},
   "outputs": [],
   "source": []
  },
  {
   "cell_type": "code",
   "execution_count": null,
   "id": "4d2356e1-d650-4099-85a4-751b4c32adde",
   "metadata": {},
   "outputs": [],
   "source": []
  },
  {
   "cell_type": "markdown",
   "id": "01d67306-3228-487c-95ce-b39c18621c63",
   "metadata": {
    "panel-layout": {
     "height": 44.09375,
     "visible": true,
     "width": 100
    }
   },
   "source": [
    "### Some of the popular languages that Data Scientists use are:"
   ]
  },
  {
   "cell_type": "markdown",
   "id": "9b939b1d-9b94-4831-939d-af739b8af956",
   "metadata": {
    "panel-layout": {
     "height": 119.703125,
     "visible": true,
     "width": 100
    }
   },
   "source": [
    "1. Python\n",
    "2. R\n",
    "3. SQL\n",
    "4. C++\n",
    "5. Java"
   ]
  },
  {
   "cell_type": "markdown",
   "id": "cb73cb79-4ce3-49b4-a0ba-7475dba8567b",
   "metadata": {
    "panel-layout": {
     "height": 27.140625,
     "visible": true,
     "width": 100
    }
   },
   "source": [
    "4-dslanguage.png"
   ]
  },
  {
   "cell_type": "code",
   "execution_count": null,
   "id": "26a7532b-eb8e-4555-8c63-17c544800be4",
   "metadata": {},
   "outputs": [],
   "source": []
  },
  {
   "cell_type": "markdown",
   "id": "8c995be0-27b3-4d3d-82da-1da61ab8703b",
   "metadata": {
    "panel-layout": {
     "height": 44.09375,
     "visible": true,
     "width": 100
    }
   },
   "source": [
    "### Some of the commonly used libraries used by Data Scientists includ:"
   ]
  },
  {
   "cell_type": "markdown",
   "id": "ecabe013-d8dd-473a-9cdf-c19c230671e3",
   "metadata": {
    "panel-layout": {
     "height": 119.703125,
     "visible": true,
     "width": 100
    }
   },
   "source": [
    "1. Pandas\n",
    "2. NumPy\n",
    "3. Matplotlib\n",
    "4. Seaborn\n",
    "5. Scicet-learn"
   ]
  },
  {
   "cell_type": "markdown",
   "id": "7f7c22f6-3d98-4e81-a574-0a6cedb9c4a0",
   "metadata": {
    "panel-layout": {
     "height": 27.140625,
     "visible": true,
     "width": 100
    }
   },
   "source": [
    "5-dslibraries.png"
   ]
  },
  {
   "cell_type": "code",
   "execution_count": null,
   "id": "30e707db-a534-43bf-b218-79fabe784e49",
   "metadata": {},
   "outputs": [],
   "source": []
  },
  {
   "cell_type": "markdown",
   "id": "f51bd047-0943-458b-9322-15edef0dffb5",
   "metadata": {
    "panel-layout": {
     "height": 123.5625,
     "visible": true,
     "width": 100
    }
   },
   "source": [
    " | Data Science Tools |\n",
    " |--------------------|\n",
    " | R |\n",
    " | Python |\n",
    " | Apache Spark |"
   ]
  },
  {
   "cell_type": "markdown",
   "id": "0bad261b-81ae-499f-b0fc-776f20cf8b80",
   "metadata": {
    "panel-layout": {
     "height": 27.140625,
     "visible": true,
     "width": 100
    }
   },
   "source": [
    "6-dstools.png"
   ]
  },
  {
   "cell_type": "code",
   "execution_count": null,
   "id": "b2eed325-f05a-45e0-8a2b-754899a8aa16",
   "metadata": {},
   "outputs": [],
   "source": []
  },
  {
   "cell_type": "code",
   "execution_count": null,
   "id": "6086089f-c54b-4c92-90a2-ae2bcb69b948",
   "metadata": {},
   "outputs": [],
   "source": []
  },
  {
   "cell_type": "markdown",
   "id": "59e13a2a-45e0-4411-9505-3adc266aa160",
   "metadata": {
    "panel-layout": {
     "height": 44.09375,
     "visible": true,
     "width": 100
    }
   },
   "source": [
    "### Below are a few examples of evaluating arithmetic expression in Python"
   ]
  },
  {
   "cell_type": "markdown",
   "id": "6dd17f01-a991-4479-b850-748e115d21e5",
   "metadata": {
    "panel-layout": {
     "height": 27.140625,
     "visible": true,
     "width": 100
    }
   },
   "source": [
    "7- introarithmetic.png"
   ]
  },
  {
   "cell_type": "code",
   "execution_count": null,
   "id": "e6d00b67-d617-4122-b4ce-2ead4d97a241",
   "metadata": {},
   "outputs": [],
   "source": []
  },
  {
   "cell_type": "markdown",
   "id": "3d67087f-b2fe-4247-bad9-3089dc33da8b",
   "metadata": {
    "panel-layout": {
     "height": 51.140625,
     "visible": true,
     "width": 100
    }
   },
   "source": [
    "***This a simple arithmetic expression to multiply then add integers***"
   ]
  },
  {
   "cell_type": "code",
   "execution_count": 1,
   "id": "713d882d-91dd-4ff4-a224-01479e6af633",
   "metadata": {
    "panel-layout": {
     "height": 27.140625,
     "visible": true,
     "width": 100
    }
   },
   "outputs": [
    {
     "data": {
      "text/plain": [
       "17"
      ]
     },
     "execution_count": 1,
     "metadata": {},
     "output_type": "execute_result"
    }
   ],
   "source": [
    "(3*4)+5"
   ]
  },
  {
   "cell_type": "markdown",
   "id": "0d6fc4f1-55a0-40d4-b664-b1012c6ef689",
   "metadata": {
    "panel-layout": {
     "height": 27.140625,
     "visible": true,
     "width": 100
    }
   },
   "source": [
    "8-multiplyandaddintegers.png"
   ]
  },
  {
   "cell_type": "code",
   "execution_count": null,
   "id": "c7286f3c-5d78-4d3f-840b-1b7ebb8f9a40",
   "metadata": {},
   "outputs": [],
   "source": []
  },
  {
   "cell_type": "markdown",
   "id": "c6df77be-55eb-438f-922a-53c9f0359fa9",
   "metadata": {
    "panel-layout": {
     "height": 44.09375,
     "visible": true,
     "width": 100
    }
   },
   "source": [
    "### This will convert 200 minutes to hours by diving by 60"
   ]
  },
  {
   "cell_type": "code",
   "execution_count": 7,
   "id": "3b1b4edc-83ad-41b3-a555-04d78b3c9ea5",
   "metadata": {
    "panel-layout": {
     "height": 27.140625,
     "visible": true,
     "width": 100
    }
   },
   "outputs": [
    {
     "data": {
      "text/plain": [
       "3.3333333333333335"
      ]
     },
     "execution_count": 7,
     "metadata": {},
     "output_type": "execute_result"
    }
   ],
   "source": [
    "200/60"
   ]
  },
  {
   "cell_type": "markdown",
   "id": "ce8835ef-f58c-4470-8321-b98481705376",
   "metadata": {
    "panel-layout": {
     "height": 27.140625,
     "visible": true,
     "width": 100
    }
   },
   "source": [
    "9-hourstominutes.png"
   ]
  },
  {
   "cell_type": "code",
   "execution_count": null,
   "id": "d2444c49-0dc9-41f4-a945-34a85b7d2552",
   "metadata": {},
   "outputs": [],
   "source": []
  },
  {
   "cell_type": "markdown",
   "id": "fde851a0-fd73-4227-abf4-ef5379a5a21a",
   "metadata": {
    "panel-layout": {
     "height": 50.796875,
     "visible": true,
     "width": 100
    }
   },
   "source": [
    "## Author"
   ]
  },
  {
   "cell_type": "markdown",
   "id": "61b85455-32bc-4c83-aa7e-385ac7e703d9",
   "metadata": {
    "panel-layout": {
     "height": 51.140625,
     "visible": true,
     "width": 100
    }
   },
   "source": [
    "Pavlo Buiak"
   ]
  },
  {
   "cell_type": "markdown",
   "id": "3cf7b584-d8fb-4c76-849f-fc26b60c8d26",
   "metadata": {
    "panel-layout": {
     "height": 27.140625,
     "visible": true,
     "width": 100
    }
   },
   "source": [
    "11-autjrdetails.png"
   ]
  },
  {
   "cell_type": "code",
   "execution_count": null,
   "id": "82a77d03-e8e7-4828-b568-bddaf7ec406a",
   "metadata": {},
   "outputs": [],
   "source": []
  }
 ],
 "metadata": {
  "kernelspec": {
   "display_name": "anaconda-2024.02-py310",
   "language": "python",
   "name": "conda-env-anaconda-2024.02-py310-py"
  },
  "language_info": {
   "codemirror_mode": {
    "name": "ipython",
    "version": 3
   },
   "file_extension": ".py",
   "mimetype": "text/x-python",
   "name": "python",
   "nbconvert_exporter": "python",
   "pygments_lexer": "ipython3",
   "version": "3.10.14"
  },
  "panel-cell-order": [
   "115109ff-cb51-4b3d-9128-189cbfb86254",
   "a2b4ae10-ebec-4b61-b89a-f14013e63ae1",
   "0c7607e4-e7b7-49ec-831c-5084182fdaa3",
   "0e07c914-1719-4818-ab0b-9906e85265e3",
   "6489ae66-ed23-41fa-a17c-5ddcfc054523",
   "2007bf34-2d09-44ec-ac05-e9ec7caadcd5",
   "8a2d75da-c040-4922-bd9d-60431e6e906e",
   "01d67306-3228-487c-95ce-b39c18621c63",
   "9b939b1d-9b94-4831-939d-af739b8af956",
   "cb73cb79-4ce3-49b4-a0ba-7475dba8567b",
   "8c995be0-27b3-4d3d-82da-1da61ab8703b",
   "ecabe013-d8dd-473a-9cdf-c19c230671e3",
   "7f7c22f6-3d98-4e81-a574-0a6cedb9c4a0",
   "f51bd047-0943-458b-9322-15edef0dffb5",
   "0bad261b-81ae-499f-b0fc-776f20cf8b80",
   "59e13a2a-45e0-4411-9505-3adc266aa160",
   "6dd17f01-a991-4479-b850-748e115d21e5",
   "3d67087f-b2fe-4247-bad9-3089dc33da8b",
   "713d882d-91dd-4ff4-a224-01479e6af633",
   "0d6fc4f1-55a0-40d4-b664-b1012c6ef689",
   "c6df77be-55eb-438f-922a-53c9f0359fa9",
   "3b1b4edc-83ad-41b3-a555-04d78b3c9ea5",
   "ce8835ef-f58c-4470-8321-b98481705376",
   "fde851a0-fd73-4227-abf4-ef5379a5a21a",
   "61b85455-32bc-4c83-aa7e-385ac7e703d9",
   "3cf7b584-d8fb-4c76-849f-fc26b60c8d26"
  ]
 },
 "nbformat": 4,
 "nbformat_minor": 5
}
